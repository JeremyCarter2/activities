{
 "cells": [
  {
   "cell_type": "markdown",
   "metadata": {},
   "source": [
    "# Python Pandas Breakouts \n"
   ]
  },
  {
   "cell_type": "markdown",
   "metadata": {},
   "source": [
    "### 1. Import the necessary packages in the code block below\n",
    "    - pandas \n",
    "    - numpy"
   ]
  },
  {
   "cell_type": "code",
   "execution_count": null,
   "metadata": {},
   "outputs": [],
   "source": [
    "# your code goes here \n"
   ]
  },
  {
   "cell_type": "markdown",
   "metadata": {},
   "source": [
    "### 2. Working with Series "
   ]
  },
  {
   "cell_type": "code",
   "execution_count": null,
   "metadata": {},
   "outputs": [],
   "source": [
    "#- use the pandas Series class to convert these lists into pandas series objects (Pandas.Series)\n",
    "\n",
    "state = ['Alabama', 'Alaska', 'Arizona', 'Arkansas', 'California', 'Colorado', 'Connecticut', 'Delaware', 'District of Columbia', 'Florida']\n",
    "population = [4817678, 728300, 6561516, 2947036, 38066920, 5197580, 3592053, 917060, 633736, 19361792]\n",
    "evreg = [4750, 1290, 40740, 2390, 563070, 37000, 13350, 3010, 3700, 95640]\n",
    "\n",
    "\n",
    "# your code goes here \n"
   ]
  },
  {
   "cell_type": "code",
   "execution_count": null,
   "metadata": {},
   "outputs": [],
   "source": [
    "# using the index value print out California from the state Series, print the corresponding index from population series, and finally  print the corresponding index from the ev reg series\n",
    "\n",
    "# your code goes here\n",
    "\n"
   ]
  },
  {
   "cell_type": "markdown",
   "metadata": {},
   "source": [
    "### How to Combine Two Series into a Pandas DataFrame\n",
    "- Can combine/merge two or more series by using:\n",
    "    - `.concat()`: Combines 2+ series\n",
    "    - `Pandas.merge()`: Combines combinations of dataframes, similar to SQL joins\n",
    "    - `dataFrame.join()`: Joins two series"
   ]
  },
  {
   "cell_type": "code",
   "execution_count": null,
   "metadata": {},
   "outputs": [],
   "source": [
    "#1 Create 3 pandas series' as you have done above with the following lists \n",
    "\n",
    "state = ['Alabama', 'Alaska', 'Arizona', 'Arkansas', 'California', 'Colorado', 'Connecticut', 'Delaware', 'District of Columbia', 'Florida']\n",
    "population = [4817678, 728300, 6561516, 2947036, 38066920, 5197580, 3592053, 917060, 633736, 19361792]\n",
    "evreg = [4750, 1290, 40740, 2390, 563070, 37000, 13350, 3010, 3700, 95640]\n",
    "\n",
    "# your code goes here \n"
   ]
  },
  {
   "cell_type": "code",
   "execution_count": null,
   "metadata": {},
   "outputs": [],
   "source": [
    "#Combine 2 series using .concat() and store this in a variable called `two_series`\n",
    "#print `two_series`\n",
    "\n",
    "#your code goes here\n"
   ]
  },
  {
   "cell_type": "code",
   "execution_count": null,
   "metadata": {},
   "outputs": [],
   "source": [
    "#combine all three series using .concat()\n",
    "# print the result \n",
    "\n",
    "#your code goes here\n"
   ]
  },
  {
   "cell_type": "code",
   "execution_count": null,
   "metadata": {},
   "outputs": [],
   "source": [
    "# re-create the Series objects form above but with column names refer to 5.2 curriculum or pandas.Series documentation for help \n",
    "# join all three series using .concat()\n",
    " \n",
    "state = ['Alabama', 'Alaska', 'Arizona', 'Arkansas', 'California', 'Colorado', 'Connecticut', 'Delaware', 'District of Columbia', 'Florida']\n",
    "population = [4817678, 728300, 6561516, 2947036, 38066920, 5197580, 3592053, 917060, 633736, 19361792]\n",
    "evreg = [4750, 1290, 40740, 2390, 563070, 37000, 13350, 3010, 3700, 95640]\n",
    "\n",
    "\n",
    "#your code goes here\n"
   ]
  },
  {
   "cell_type": "code",
   "execution_count": null,
   "metadata": {},
   "outputs": [],
   "source": [
    "#run this code block but do not change this code\n",
    "index_list = []\n",
    "\n",
    "for i in range(1,11):\n",
    "    index_list.append('r'+str(i))"
   ]
  },
  {
   "cell_type": "code",
   "execution_count": null,
   "metadata": {},
   "outputs": [],
   "source": [
    "# use the index list created above to change the index on the three Series objects you have created. \n",
    "# use the curriculum or pandas documentation for assisstance\n",
    "# \n",
    "# \n",
    "# your code goes here  \n",
    "\n",
    "\n"
   ]
  },
  {
   "cell_type": "code",
   "execution_count": null,
   "metadata": {},
   "outputs": [],
   "source": [
    "# insert the 3 pandas Series objects into a dictionary with the column name being the key and the Series object being the value \n",
    "# use .concat() to covert the three series objects to a dataframe \n",
    "# there is some helper skeleton code to aid you while inserting the Series into the dictionary\n",
    "dict = {}\n",
    "\n",
    " \n",
    "# your code goes here\n",
    "\n",
    "dict[_______] = _________\n",
    "dict[_______] = _________\n",
    "dict[_______] = _________\n",
    "\n"
   ]
  },
  {
   "cell_type": "code",
   "execution_count": null,
   "metadata": {},
   "outputs": [],
   "source": [
    "# use df method .reset_index() to drop the current index \n",
    "# use curriculum or documentation for assistance\n",
    "\n",
    "# your code goes here\n"
   ]
  },
  {
   "cell_type": "markdown",
   "metadata": {},
   "source": [
    "# 3. Working with pandas.merge()"
   ]
  },
  {
   "cell_type": "markdown",
   "metadata": {},
   "source": [
    "#### Combine Two Series using `pandas.merge()`\n",
    "- `.merge()` - Merges complex dataframes, through columns, similar to SQL-like joins \n",
    "    - Can be used for joining dataframes and/or series \n",
    "    - Must pass the extra parameter \"name\" to the series\n",
    "    - **Syntax Example**: `pd.merge(S1, S2, right_index=True, left_index=True)`."
   ]
  },
  {
   "cell_type": "code",
   "execution_count": null,
   "metadata": {},
   "outputs": [],
   "source": [
    "# given the two lists, convert them to Series objects, give them column names using the name parameter\n",
    "# then use pd.merge() to join the two lists\n",
    "\n",
    "states = ['Alabama', 'Alaska', 'Arizona', 'Arkansas', 'California', 'Colorado', 'Connecticut', 'Delaware', 'District of Columbia', 'Florida']\n",
    "evregs = [4750, 1290, 40740, 2390, 563070, 37000, 13350, 3010, 3700, 95640]\n",
    "\n",
    "#your code goes here\n"
   ]
  },
  {
   "cell_type": "markdown",
   "metadata": {},
   "source": [
    "#### 4.) Combine Two Series Using `DataFrame.join()`\n",
    "- `DataFrame.join()` - Joins 2 Series\n",
    "- In order to use, MUST have a DataFrame object "
   ]
  },
  {
   "cell_type": "code",
   "execution_count": null,
   "metadata": {},
   "outputs": [],
   "source": [
    "# given the two lists\n",
    "# convert the lists to series objects\n",
    "# use DataFrame.join() to join the two series objects\n",
    "\n",
    "state = ['Alabama', 'Alaska', 'Arizona', 'Arkansas', 'California', 'Colorado', 'Connecticut', 'Delaware', 'District of Columbia', 'Florida']\n",
    "population = [4817678, 728300, 6561516, 2947036, 38066920, 5197580, 3592053, 917060, 633736, 19361792]\n",
    "\n",
    "\n",
    "#your code goes here\n"
   ]
  },
  {
   "cell_type": "markdown",
   "metadata": {},
   "source": [
    "# Working with DataFrames "
   ]
  },
  {
   "cell_type": "markdown",
   "metadata": {},
   "source": [
    " 1. inserting data into dataframes and locating specific rows of data within our dataframes \n"
   ]
  },
  {
   "cell_type": "code",
   "execution_count": null,
   "metadata": {},
   "outputs": [],
   "source": [
    "# use the follow dictionary for the upcoming questions\n",
    "\n",
    "dict = {\n",
    "'state': ['Alabama', 'Alaska', 'Arizona', 'Arkansas', 'California', 'Colorado', 'Connecticut', 'Delaware', 'District of Columbia', 'Florida'],\n",
    "'population' : [4817678, 728300, 6561516, 2947036, 38066920, 5197580, 3592053, 917060, 633736, 19361792],\n",
    "'evreg' :[4750, 1290, 40740, 2390, 563070, 37000, 13350, 3010, 3700, 95640]\n",
    "}\n"
   ]
  },
  {
   "cell_type": "code",
   "execution_count": null,
   "metadata": {},
   "outputs": [],
   "source": [
    "# convert the dictionary to a dataframe \n",
    "\n",
    "#your code goes here\n"
   ]
  },
  {
   "cell_type": "code",
   "execution_count": null,
   "metadata": {},
   "outputs": [],
   "source": [
    "# find the location of specific rows in the dataframe from the above code block using the index position (HINT:refer to previous cell output for index position)\n",
    "# print out arkansas using .loc and the index position \n",
    "# print both Delaware and California using .loc and their index position. \n",
    "\n",
    "\n",
    "# your code goes here\n",
    "\n"
   ]
  },
  {
   "cell_type": "code",
   "execution_count": null,
   "metadata": {},
   "outputs": [],
   "source": [
    "# run the following code without making changes\n",
    "index_labels = []\n",
    "\n",
    "for i in range(0,len(states_pop_ev['state'])):\n",
    "    index_labels.append('r' + str(i+1))\n"
   ]
  },
  {
   "cell_type": "code",
   "execution_count": null,
   "metadata": {},
   "outputs": [],
   "source": [
    "# use the index_labels list created in the cell above to make a new df using dict but make sure to set index to our new list of indexs\n",
    "# print out new dataframe\n",
    "\n",
    "# your code goes here\n",
    "\n"
   ]
  },
  {
   "cell_type": "code",
   "execution_count": null,
   "metadata": {},
   "outputs": [],
   "source": [
    "# locate  and print out florida using the new index of r10 and .loc\n",
    "\n",
    "# your code goes here\n",
    "\n"
   ]
  },
  {
   "cell_type": "markdown",
   "metadata": {},
   "source": [
    "2. inserting data from nested list and  changing the order of the data frame "
   ]
  },
  {
   "cell_type": "code",
   "execution_count": null,
   "metadata": {},
   "outputs": [],
   "source": [
    "# create a new dataframe with state_info nested list and the list of columns\n",
    "\n",
    "state_info = [\n",
    "['Florida', 19361792, 71.8, 2, 95640], \n",
    "['Georgia', 9907756, 62.3, 8, 34020], \n",
    "['Hawaii', 1392704, 72.95, 1, 14220], \n",
    "['Idaho', 1599464, 46.32, 40, 3500], \n",
    "['Illinois', 12868747, 51.37, 27, 36520],\n",
    "['Indiana', 6542411, 51.81, 26, 10360], \n",
    "['Iowa', 3078116, 48.14, 38, 3660], \n",
    "['Kansas', 2882946, np.NaN, 20, 4500], \n",
    "['Kentucky', 4383272, 55.62, 16, 4220], \n",
    "['Louisiana', 4601049, 66.74, 3, 3180], \n",
    "['Maine', 1328535, 43.09, 48, 3040]\n",
    "]\n",
    "\n",
    "columns = ['State', 'Population', 'Avg_TEMP_F', 'Rank', 'EV_Registrations']\n",
    "\n",
    "\n",
    "\n",
    "# your code goes here\n"
   ]
  },
  {
   "cell_type": "code",
   "execution_count": null,
   "metadata": {},
   "outputs": [],
   "source": [
    "# use sort values to sort the data frame by State \n",
    "\n",
    "# your code goes here\n",
    "\n"
   ]
  },
  {
   "cell_type": "code",
   "execution_count": null,
   "metadata": {},
   "outputs": [],
   "source": [
    "# use sort values to sort the data by population in descending order\n",
    "\n",
    "# your code goes here\n",
    "\n",
    "\n"
   ]
  }
 ],
 "metadata": {
  "kernelspec": {
   "display_name": "Python 3",
   "language": "python",
   "name": "python3"
  },
  "language_info": {
   "codemirror_mode": {
    "name": "ipython",
    "version": 3
   },
   "file_extension": ".py",
   "mimetype": "text/x-python",
   "name": "python",
   "nbconvert_exporter": "python",
   "pygments_lexer": "ipython3",
   "version": "3.10.4"
  },
  "orig_nbformat": 4
 },
 "nbformat": 4,
 "nbformat_minor": 2
}
