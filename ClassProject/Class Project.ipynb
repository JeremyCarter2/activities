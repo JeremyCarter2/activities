{
 "cells": [
  {
   "cell_type": "code",
   "execution_count": null,
   "metadata": {},
   "outputs": [],
   "source": [
    "import pandas as pd\n",
    "\n",
    "df = pd.read_excel(\"/Users/jeremycarter/Code/SavvyCoders/activities/ClassProject/EVRegistrations.xlsx\")\n",
    "df"
   ]
  },
  {
   "cell_type": "code",
   "execution_count": 3,
   "metadata": {},
   "outputs": [
    {
     "name": "stdout",
     "output_type": "stream",
     "text": [
      "<class 'pandas.core.frame.DataFrame'>\n",
      "RangeIndex: 52 entries, 0 to 51\n",
      "Data columns (total 12 columns):\n",
      " #   Column                 Non-Null Count  Dtype  \n",
      "---  ------                 --------------  -----  \n",
      " 0   State                  52 non-null     object \n",
      " 1   EV Registration Count  52 non-null     int64  \n",
      " 2   TotalRegCount          52 non-null     float64\n",
      " 3   StatePopulations       52 non-null     int64  \n",
      " 4   EVRegPer1000residents  52 non-null     float64\n",
      " 5   EVRegPercTotalReg      52 non-null     float64\n",
      " 6   EVper1000TotalReg      52 non-null     float64\n",
      " 7   Unnamed: 7             0 non-null      float64\n",
      " 8   Unnamed: 8             0 non-null      float64\n",
      " 9   Unnamed: 9             0 non-null      float64\n",
      " 10  Unnamed: 10            0 non-null      float64\n",
      " 11  Unnamed: 11            8 non-null      object \n",
      "dtypes: float64(8), int64(2), object(2)\n",
      "memory usage: 5.0+ KB\n"
     ]
    }
   ],
   "source": [
    "df.info()"
   ]
  },
  {
   "cell_type": "markdown",
   "metadata": {},
   "source": [
    "Does the number of rows and columns equal what we expect it to?\n",
    "- Are the data types of our values what we expect?\n",
    "- Do we have nulls in our data? How do you know?\n",
    "- What are some useful manipulations we could make to this DataFrame to answer our essential questions? How might we do that?\n",
    "\n"
   ]
  },
  {
   "cell_type": "code",
   "execution_count": 1,
   "metadata": {},
   "outputs": [
    {
     "name": "stdout",
     "output_type": "stream",
     "text": [
      "[    Rank Average Temperature ▼              State / Population\n",
      "0    1.0               72.95°F              Hawaii / 1,392,704\n",
      "1    2.0               71.80°F            Florida / 19,361,792\n",
      "2    3.0               66.74°F           Louisiana / 4,601,049\n",
      "3    4.0               65.97°F             Arizona / 6,561,516\n",
      "4    5.0               65.97°F              Texas / 26,092,033\n",
      "5    6.0               63.50°F         Mississippi / 2,984,345\n",
      "6    7.0               62.68°F             Alabama / 4,817,678\n",
      "7    8.0               62.30°F             Georgia / 9,907,756\n",
      "8    9.0               61.70°F      South Carolina / 4,727,273\n",
      "9   10.0               61.17°F         California / 38,066,920\n",
      "10  11.0               60.14°F            Oklahoma / 3,818,851\n",
      "11  12.0               60.09°F            Arkansas / 2,947,036\n",
      "12  13.0               58.70°F      North Carolina / 9,750,405\n",
      "13  14.0               58.11°F           Tennessee / 6,451,365\n",
      "14  15.0               57.30°F              Nevada / 2,761,584\n",
      "15  16.0               55.62°F            Kentucky / 4,383,272\n",
      "16  17.0               55.54°F            Virginia / 8,185,131\n",
      "17  18.0               54.73°F  District of Columbia / 633,736\n",
      "18  19.0               54.70°F            Missouri / 6,028,076\n",
      "19  20.0               54.68°F              Kansas / 2,882,946\n",
      "20  21.0               54.61°F            Maryland / 5,887,776\n",
      "21  22.0               54.48°F              Delaware / 917,060\n",
      "22  23.0               53.08°F       West Virginia / 1,853,881\n",
      "23  24.0               53.07°F          New Mexico / 2,080,085\n",
      "24  25.0               51.93°F          New Jersey / 8,874,374\n",
      "25  26.0               51.81°F             Indiana / 6,542,411\n",
      "26  27.0               51.37°F           Illinois / 12,868,747\n",
      "27  28.0               51.27°F              Oregon / 3,900,343\n",
      "28  29.0               50.88°F               Ohio / 11,560,380\n",
      "29  30.0               50.47°F          Washington / 6,899,123\n",
      "30  31.0               49.88°F            Nebraska / 1,855,617\n",
      "31  32.0               49.80°F       Pennsylvania / 12,758,729\n",
      "32  33.0               49.55°F                Utah / 2,858,111\n",
      "33  34.0               49.27°F        Rhode Island / 1,053,252\n",
      "34  35.0               48.60°F         Connecticut / 3,592,053\n",
      "35  36.0               48.17°F           New York / 19,594,330\n",
      "36  37.0               48.14°F       Massachusetts / 6,657,291\n",
      "37  38.0               48.14°F                Iowa / 3,078,116\n",
      "38  39.0               46.64°F            Michigan / 9,889,024\n",
      "39  40.0               46.32°F               Idaho / 1,599,464\n",
      "40  41.0               46.26°F            Colorado / 5,197,580\n",
      "41  42.0               45.54°F          South Dakota / 834,708\n",
      "42  43.0               44.71°F           Wisconsin / 5,724,692\n",
      "43  44.0               44.49°F       New Hampshire / 1,321,069\n",
      "44  45.0               44.18°F             Montana / 1,006,370\n",
      "45  46.0               43.74°F               Vermont / 626,358\n",
      "46  47.0               43.47°F               Wyoming / 575,251\n",
      "47  48.0               43.09°F               Maine / 1,328,535\n",
      "48  49.0               42.98°F           Minnesota / 5,383,661\n",
      "49  50.0               40.80°F          North Dakota / 704,925\n",
      "50  51.0               32.03°F                Alaska / 728,300]\n"
     ]
    }
   ],
   "source": [
    "import pandas as pd\n",
    "import requests\n",
    "url = \"http://www.usa.com/rank/us--average-temperature--state-rank.htm\"\n",
    "r = requests.get(url)\n",
    "df_list = pd.read_html(r.text, header=0) # this parses all the tables in webpages to a list\n",
    "print(df_list)"
   ]
  }
 ],
 "metadata": {
  "kernelspec": {
   "display_name": "Python 3",
   "language": "python",
   "name": "python3"
  },
  "language_info": {
   "codemirror_mode": {
    "name": "ipython",
    "version": 3
   },
   "file_extension": ".py",
   "mimetype": "text/x-python",
   "name": "python",
   "nbconvert_exporter": "python",
   "pygments_lexer": "ipython3",
   "version": "3.11.3"
  },
  "orig_nbformat": 4
 },
 "nbformat": 4,
 "nbformat_minor": 2
}
