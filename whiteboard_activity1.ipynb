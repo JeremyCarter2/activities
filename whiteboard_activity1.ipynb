{
 "cells": [
  {
   "cell_type": "markdown",
   "metadata": {},
   "source": [
    "## Questions:\n",
    "\n",
    "Write a function that takes in integers and returns the interger with the highest values: \n"
   ]
  },
  {
   "cell_type": "markdown",
   "metadata": {},
   "source": [
    "## Psuedocode:\n",
    "\n",
    "Define a function - \"highestNumber\" with 3 variables\n",
    "Check if X is GREATER THAN y AND z \n",
    "print if TRUE\n",
    "Check if y is GREATER THAN x AND z\n",
    "print if TRUE\n",
    "ELSE \n",
    "print z is the highest number "
   ]
  },
  {
   "cell_type": "code",
   "execution_count": 21,
   "metadata": {},
   "outputs": [
    {
     "data": {
      "text/plain": [
       "('the highest number is...', 8)"
      ]
     },
     "execution_count": 21,
     "metadata": {},
     "output_type": "execute_result"
    }
   ],
   "source": [
    "def hightestNumber(x, y, z): # create a function\n",
    "\n",
    "\tif x > y and x > z: # check if x is greater than y and z \n",
    "\t\treturn(\"the highest number is...\", x) # if true, print it \n",
    "\telif y > x and y > z: # check if y is greater than x and z \n",
    "\t\treturn(\"the highest number is...\", y) # if true, print it\n",
    "\telse:  # if neither of those are true\n",
    "\t\treturn (\"the highest number is...\", z) # then print this \n",
    "\n",
    "hightestNumber(5, 1, 8) # testing a function"
   ]
  },
  {
   "cell_type": "code",
   "execution_count": 26,
   "metadata": {},
   "outputs": [
    {
     "name": "stdout",
     "output_type": "stream",
     "text": [
      "50\n"
     ]
    }
   ],
   "source": [
    "numbers = [10, 20, 30, 50]\n",
    "\n",
    "highest_number = 0\n",
    "\n",
    "for num in numbers:  # iterate through numbers \n",
    "\tif num > highest_number:\n",
    "\t\thighest_number = num\n",
    "\n",
    "print(highest_number)  # comparing inputs to low value "
   ]
  }
 ],
 "metadata": {
  "kernelspec": {
   "display_name": "Python 3",
   "language": "python",
   "name": "python3"
  },
  "language_info": {
   "codemirror_mode": {
    "name": "ipython",
    "version": 3
   },
   "file_extension": ".py",
   "mimetype": "text/x-python",
   "name": "python",
   "nbconvert_exporter": "python",
   "pygments_lexer": "ipython3",
   "version": "3.11.3"
  },
  "orig_nbformat": 4
 },
 "nbformat": 4,
 "nbformat_minor": 2
}
