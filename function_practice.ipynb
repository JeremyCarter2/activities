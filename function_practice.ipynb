{
 "cells": [
  {
   "attachments": {},
   "cell_type": "markdown",
   "metadata": {},
   "source": [
    "1. Write a function that accepts 2 string parameters (first_name, last_name) and concatenate the two parameters to return full_name. "
   ]
  },
  {
   "cell_type": "code",
   "execution_count": 63,
   "metadata": {},
   "outputs": [
    {
     "name": "stdout",
     "output_type": "stream",
     "text": [
      "Jeremy Carter\n"
     ]
    }
   ],
   "source": [
    "def full_name(firstname,lastname):\n",
    "     print(firstname + \" \" + lastname)\n",
    "\n",
    "full_name(\"Jeremy\", \"Carter\")\n",
    "# create your own test case down here by passing your first name and last name into the function"
   ]
  },
  {
   "attachments": {},
   "cell_type": "markdown",
   "metadata": {},
   "source": [
    "2. Write a function that accepts two integers as parameters. This function should take those two parameters and multiply them and return the result."
   ]
  },
  {
   "cell_type": "code",
   "execution_count": 64,
   "metadata": {},
   "outputs": [
    {
     "data": {
      "text/plain": [
       "400"
      ]
     },
     "execution_count": 64,
     "metadata": {},
     "output_type": "execute_result"
    }
   ],
   "source": [
    "def multiply_int(x,y):\n",
    "    return(x * y)\n",
    "\n",
    "# test case \n",
    "\n",
    "multiply_int(40, 10)"
   ]
  },
  {
   "attachments": {},
   "cell_type": "markdown",
   "metadata": {},
   "source": [
    "3.  Write a function that takes in a string and returns the string with all the vowels\n",
    "    removed (\"aeiouAEIOU\"). Test it using the following code (you should see no output):"
   ]
  },
  {
   "cell_type": "code",
   "execution_count": 65,
   "metadata": {},
   "outputs": [
    {
     "data": {
      "text/plain": [
       "' rlly njy th Dt nlytcs nd Pythn prgrm t SvvyCdrs'"
      ]
     },
     "execution_count": 65,
     "metadata": {},
     "output_type": "execute_result"
    }
   ],
   "source": [
    "def remove_vowels(string):\n",
    "    new_string = \"\"\n",
    "    for i in string:\n",
    "        if i in \"aeiouAEIOU\":\n",
    "            continue\n",
    "        new_string += i\n",
    "    return new_string\n",
    "\n",
    "#test case \n",
    "string = \"I really enjoy the Data Analytics and Python program at SavvyCoders\"\n",
    "remove_vowels(string)"
   ]
  },
  {
   "attachments": {},
   "cell_type": "markdown",
   "metadata": {},
   "source": [
    "4. Write a function called km_to_miles that takes kilometers as a parameter, converts it into miles and returns the result. 1 km = 0.621371 miles"
   ]
  },
  {
   "cell_type": "code",
   "execution_count": 66,
   "metadata": {},
   "outputs": [
    {
     "data": {
      "text/plain": [
       "160.93444978925635"
      ]
     },
     "execution_count": 66,
     "metadata": {},
     "output_type": "execute_result"
    }
   ],
   "source": [
    "def km_to_miles(value):\n",
    "    km = 0.621371\n",
    "    return value/km\n",
    "\n",
    "#test case \n",
    "km_to_miles(100)"
   ]
  },
  {
   "attachments": {},
   "cell_type": "markdown",
   "metadata": {},
   "source": [
    "5.  Write a function, fizzbuzz, with a single integer argument named value. If the value is evenly divisible by three, return the string “fizz”. It the value is evenly divisible by five, return the string “buzz”. If the value is evenly divisible by both three and five, return fizzbuzz. Finally, if none of these apply, return an empty string."
   ]
  },
  {
   "cell_type": "code",
   "execution_count": 67,
   "metadata": {},
   "outputs": [
    {
     "ename": "NameError",
     "evalue": "name 'i' is not defined",
     "output_type": "error",
     "traceback": [
      "\u001b[0;31m---------------------------------------------------------------------------\u001b[0m",
      "\u001b[0;31mNameError\u001b[0m                                 Traceback (most recent call last)",
      "Cell \u001b[0;32mIn[67], line 16\u001b[0m\n\u001b[1;32m     14\u001b[0m \u001b[39mfor\u001b[39;00m val \u001b[39min\u001b[39;00m values:\n\u001b[1;32m     15\u001b[0m     a \u001b[39m=\u001b[39m \u001b[39m\"\u001b[39m\u001b[39m \u001b[39m\u001b[39m\"\u001b[39m\n\u001b[0;32m---> 16\u001b[0m     fizzbuzz(val)\n",
      "Cell \u001b[0;32mIn[67], line 2\u001b[0m, in \u001b[0;36mfizzbuzz\u001b[0;34m(value)\u001b[0m\n\u001b[1;32m      1\u001b[0m \u001b[39mdef\u001b[39;00m \u001b[39mfizzbuzz\u001b[39m(value):\n\u001b[0;32m----> 2\u001b[0m         \u001b[39mif\u001b[39;00m i \u001b[39m%\u001b[39m \u001b[39m3\u001b[39m \u001b[39m==\u001b[39m \u001b[39m0\u001b[39m \u001b[39mand\u001b[39;00m i \u001b[39m%\u001b[39m \u001b[39m5\u001b[39m \u001b[39m==\u001b[39m \u001b[39m0\u001b[39m:\n\u001b[1;32m      3\u001b[0m            \u001b[39mreturn\u001b[39;00m(\u001b[39m\"\u001b[39m\u001b[39mfizzbuzz\u001b[39m\u001b[39m\"\u001b[39m)\n\u001b[1;32m      4\u001b[0m         \u001b[39melif\u001b[39;00m i \u001b[39m%\u001b[39m \u001b[39m3\u001b[39m \u001b[39m==\u001b[39m \u001b[39m0\u001b[39m:\n",
      "\u001b[0;31mNameError\u001b[0m: name 'i' is not defined"
     ]
    }
   ],
   "source": [
    "def fizzbuzz(value):\n",
    "        if i % 3 == 0 and i % 5 == 0:\n",
    "           return(\"fizzbuzz\")\n",
    "        elif i % 3 == 0:\n",
    "            return(str(i + \" is fizz\"))\n",
    "        elif i % 5 == 0:\n",
    "            return(str(i + \" is buzz\"))\n",
    "        else:\n",
    "            return(\" \")\n",
    "\n",
    "# Test case\n",
    "values = [3, 6, 9, 11, 10, 20, 40, 23, 15, 30, 60]\n",
    "\n",
    "for val in values:\n",
    "    a = \" \"\n",
    "    fizzbuzz(val)"
   ]
  },
  {
   "cell_type": "code",
   "execution_count": null,
   "metadata": {},
   "outputs": [],
   "source": [
    "#5\n",
    "def fizzbuzz(value):\n",
    "    result = \"\"\n",
    "    if value % 3 == 0:\n",
    "        result+= \"fizz\"\n",
    "    if value % 5 == 0: \n",
    "        result+= \"buzz\"\n",
    "    return result\n",
    "\n",
    "values = [3,6,9,11,10,20,40,23,15,30,60]\n",
    "\n",
    "for value in values:\n",
    "    print(fizzbuzz(value), end =\",\")"
   ]
  },
  {
   "cell_type": "code",
   "execution_count": null,
   "metadata": {},
   "outputs": [],
   "source": []
  },
  {
   "cell_type": "code",
   "execution_count": null,
   "metadata": {},
   "outputs": [
    {
     "name": "stdout",
     "output_type": "stream",
     "text": [
      "memory size of pylist .... 48000\n",
      "Memory size of NumPy Array... 8000\n"
     ]
    }
   ],
   "source": [
    "import numpy as np\n",
    "import time, sys\n",
    "\n",
    "pylist = range(1000)\n",
    "print(\"memory size of pylist ....\", sys.getsizeof(pylist)*len(pylist))\n",
    "\n",
    "pyArray = np.arange(1000)\n",
    "print(\"Memory size of NumPy Array...\", pyArray.size*pyArray.itemsize)\n"
   ]
  },
  {
   "cell_type": "code",
   "execution_count": 69,
   "metadata": {},
   "outputs": [
    {
     "data": {
      "text/plain": [
       "array([[1, 2, 3],\n",
       "       [4, 5, 6]])"
      ]
     },
     "execution_count": 69,
     "metadata": {},
     "output_type": "execute_result"
    }
   ],
   "source": [
    " import numpy as np\n",
    ">>> np.array([[1,2,3], [4,5,6]])"
   ]
  },
  {
   "cell_type": "code",
   "execution_count": null,
   "metadata": {},
   "outputs": [],
   "source": []
  }
 ],
 "metadata": {
  "kernelspec": {
   "display_name": "Python 3",
   "language": "python",
   "name": "python3"
  },
  "language_info": {
   "codemirror_mode": {
    "name": "ipython",
    "version": 3
   },
   "file_extension": ".py",
   "mimetype": "text/x-python",
   "name": "python",
   "nbconvert_exporter": "python",
   "pygments_lexer": "ipython3",
   "version": "3.11.3"
  },
  "orig_nbformat": 4
 },
 "nbformat": 4,
 "nbformat_minor": 2
}
