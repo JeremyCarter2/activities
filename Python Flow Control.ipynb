{
 "cells": [
  {
   "cell_type": "code",
   "execution_count": null,
   "metadata": {},
   "outputs": [],
   "source": [
    "for i in range(1,11):\n",
    "    print(i)"
   ]
  },
  {
   "cell_type": "code",
   "execution_count": null,
   "metadata": {},
   "outputs": [],
   "source": [
    "i = 1\n",
    "\n",
    "while i <= 10:\n",
    "    print(i)\n",
    "    i = i + 1\n"
   ]
  },
  {
   "cell_type": "code",
   "execution_count": null,
   "metadata": {},
   "outputs": [],
   "source": [
    " # Using a for statement and a nested if statement, create a block of code that shows the numbers that are divisible by 4. For this use the range from 1-100\n",
    "\n",
    "for i in range(0, 100):\n",
    "    if i % 4 == 0:\n",
    "        print(i)"
   ]
  },
  {
   "cell_type": "code",
   "execution_count": null,
   "metadata": {},
   "outputs": [],
   "source": [
    "# 4. Using the string \"Python is pretty awesome. I can't wait to LEARN more\", print each vowel by using a for and nested if statement\n",
    "\n",
    "wordswordswords = \"Python is pretty awesome. I can't wait to LEARN more\"\n",
    "\n",
    "for i in wordswordswords:\n",
    "    if i in \"aeiouAEIOU\":\n",
    "        print(i, end = \",\")\n",
    "\n",
    "\n",
    "\n"
   ]
  },
  {
   "cell_type": "code",
   "execution_count": null,
   "metadata": {},
   "outputs": [],
   "source": [
    "# 5. using the following, print out all combinations of cars and colors\n",
    "\n",
    "cars = ['Corvette', 'Camaro', 'Mustang', 'Viper', 'Charger']\n",
    "colors = ['Ruby Red', 'Python Green', 'Java Brown', 'C++ Yellow', 'Full Stack Rainbow','Savvy Coders Blue']\n",
    "\n",
    "for color in colors: \n",
    "    for car in cars: \n",
    "        print(color, car)"
   ]
  },
  {
   "cell_type": "markdown",
   "metadata": {},
   "source": [
    "# 6. What is the first step in using a module?\n",
    "\n",
    "import the module"
   ]
  },
  {
   "cell_type": "code",
   "execution_count": null,
   "metadata": {},
   "outputs": [],
   "source": [
    "# 7 Write a block of code that does the following\n",
    "# - Asks for the users year of birth\n",
    "# - Returns: \"Your body really hurts\" for users born before 1980,\"Your back hurts\" for users born between the start of 1980 and the end 0f 1989, \"Your back is starting to hurt\" for users born between the beginning of 1990 and the end of 1999, and \"Take care of your body so it doesn't hurt\" for all users born after the start of 2000\n",
    "\n",
    "birthyear = input(\"What year were you born?\")\n",
    "\n",
    "try: \n",
    "    birthyear = int\n",
    "\n",
    "    if birthyear <= 1980 \n",
    "        print(\"Your back hurts\")\n",
    "    elif birthyear >= 1981 and birthyear <= 1989\n",
    "        print(\"your back is starting to hurt\")\n",
    "    elif\n",
    "\n",
    "    elif  \n",
    "        print\n",
    "\n",
    "except:\n",
    "    print(\"Please enter a year YYYY\")"
   ]
  }
 ],
 "metadata": {
  "kernelspec": {
   "display_name": "Python 3",
   "language": "python",
   "name": "python3"
  },
  "language_info": {
   "codemirror_mode": {
    "name": "ipython",
    "version": 3
   },
   "file_extension": ".py",
   "mimetype": "text/x-python",
   "name": "python",
   "nbconvert_exporter": "python",
   "pygments_lexer": "ipython3",
   "version": "3.11.3"
  },
  "orig_nbformat": 4
 },
 "nbformat": 4,
 "nbformat_minor": 2
}
