{
 "cells": [
  {
   "cell_type": "code",
   "execution_count": 5,
   "metadata": {},
   "outputs": [
    {
     "name": "stdout",
     "output_type": "stream",
     "text": [
      "No bumper stickers for you\n"
     ]
    }
   ],
   "source": [
    "#Create an if statement: if 'AVGgrade' is greater than or equal to 80, print \"You're on the honor roll\"\n",
    "#however if 'grade' is less than 80, print \"No bumper stickers for you\"\n",
    "\n",
    "\n",
    "AVGgrade = input(\"What was the Average Grade?\")\n",
    "\n",
    "try:\n",
    "    x = int(AVGgrade)\n",
    "    if x >= 80:\n",
    "        print(\"You're on the honor roll\")\n",
    "    else:\n",
    "        print(\"No bumper stickers for you\")\n",
    "except ValueError:\n",
    "    print(\"\")\n",
    "\n"
   ]
  },
  {
   "cell_type": "code",
   "execution_count": 12,
   "metadata": {},
   "outputs": [
    {
     "name": "stdout",
     "output_type": "stream",
     "text": [
      "31\n",
      "i\n",
      "o\n",
      "a\n",
      "u\n",
      "a\n",
      ",\n",
      "u\n",
      "e\n",
      "o\n",
      ".\n"
     ]
    }
   ],
   "source": [
    "#Loop over the following string to (1) count all the characters in the string, excluding the spaces, and (2) print out all the vowels and punctuation\n",
    "# \"Sphinx of black quartz, judge my vow.\"\n",
    "\n",
    "words = \"Sphinx of black quartz, judge my vow.\"\n",
    "\n",
    "characters = 0 \n",
    "\n",
    "for i in words:\n",
    "    if i != \" \":\n",
    "        characters += 1 # characters = characters + 1\n",
    "\n",
    "print(characters)   \n",
    "\n",
    "for i in words: \n",
    "    if i in \"aeiouAEIOU\" or i in \",.\":\n",
    "        print(i)\n"
   ]
  },
  {
   "cell_type": "code",
   "execution_count": 25,
   "metadata": {},
   "outputs": [
    {
     "name": "stdout",
     "output_type": "stream",
     "text": [
      "['Captain America', 'Captain Marvel', 'Black Panther', 'Batgirl', 'Green Lantern', 'Iron Man', 'Thor', 'Spiderman', 'Wonder Woman']\n",
      "['Captain America', 'Captain Marvel', 'Black Panther', 'Batgirl', 'Green Lantern', 'Iron Man', 'Thor', 'Spiderman', 'Wonder Woman', 'Catwoman', 'Ant-Man', 'Aquaman']\n",
      "['Captain America', 'Captain Marvel', 'Black Panther', 'Batgirl', 'Green Lantern', 'Daredevil', 'Thor', 'Spiderman', 'Wonder Woman', 'Catwoman', 'Ant-Man', 'Aquaman']\n",
      "Spiderman Wonder Woman\n"
     ]
    }
   ],
   "source": [
    "# 1. Use the insert method to add \"Spiderman\" as the 8th item in the heroes list. \n",
    "#[\"Captain America\", \"Captain Marvel\", \"Black Panther\", \"Batgirl\", \"Green Lantern\", \"Iron Man\", \"Thor\", \"Wonder Woman\"]\n",
    "# 2. Sort the list of heroes\n",
    "# 3. Append \"Catwoman\", \"Ant-Man\", and \"Aquaman\"\n",
    "# 4. Change \"Iron Man\" to \"Daredevil\"\n",
    "# 5. Use negative indexing to print the 5th and 4th last items\n",
    "\n",
    "\n",
    "heroes = [\"Captain America\", \"Captain Marvel\", \"Black Panther\", \"Batgirl\", \"Green Lantern\", \"Iron Man\", \"Thor\", \"Wonder Woman\"]\n",
    "\n",
    "heroes.insert(7, \"Spiderman\")\n",
    "print(heroes)\n",
    "heroes.append(\"Catwoman\")\n",
    "heroes.append(\"Ant-Man\")\n",
    "heroes.append(\"Aquaman\")\n",
    "print(heroes)\n",
    "\n",
    "heroes[5] = \"Daredevil\"\n",
    "print(heroes)\n",
    "\n",
    "print(heroes[-5], heroes[-4])\n"
   ]
  },
  {
   "cell_type": "code",
   "execution_count": 34,
   "metadata": {},
   "outputs": [
    {
     "name": "stdout",
     "output_type": "stream",
     "text": [
      "2023-08-24 18:51:03.242922\n",
      "Current week:  34\n",
      "Current Day:  Thursday\n"
     ]
    }
   ],
   "source": [
    "# Using the Date Time module, get the current date and time\n",
    "# Print the current week number of the year\n",
    "# Print the full weekday name\n",
    "\n",
    "import datetime\n",
    "\n",
    "x = datetime.datetime.now()\n",
    "print(x)\n",
    "\n",
    "print(\"Current week: \", x.strftime(\"%U\"))\n",
    "\n",
    "print(\"Current Day: \", x.strftime(\"%A\"))\n",
    "\n"
   ]
  },
  {
   "cell_type": "code",
   "execution_count": 39,
   "metadata": {},
   "outputs": [
    {
     "data": {
      "text/plain": [
       "68719476736.0"
      ]
     },
     "execution_count": 39,
     "metadata": {},
     "output_type": "execute_result"
    }
   ],
   "source": [
    "# Using the Math Module, find the remainder when 11 is divided by 8\n",
    "#Find the square root of 196\n",
    "#Find what is 8 to the power of 12\n",
    "\n",
    "import math\n",
    "\n",
    "math.sqrt(196)\n",
    "\n",
    "math.pow(8,12)"
   ]
  }
 ],
 "metadata": {
  "kernelspec": {
   "display_name": "Python 3",
   "language": "python",
   "name": "python3"
  },
  "language_info": {
   "codemirror_mode": {
    "name": "ipython",
    "version": 3
   },
   "file_extension": ".py",
   "mimetype": "text/x-python",
   "name": "python",
   "nbconvert_exporter": "python",
   "pygments_lexer": "ipython3",
   "version": "3.11.3"
  },
  "orig_nbformat": 4
 },
 "nbformat": 4,
 "nbformat_minor": 2
}
