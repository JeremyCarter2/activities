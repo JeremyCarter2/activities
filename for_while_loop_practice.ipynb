{
 "cells": [
  {
   "attachments": {},
   "cell_type": "markdown",
   "metadata": {},
   "source": [
    "# Practice 1\n",
    "\n",
    "###  Task: Use a python while loop to print a series of numbers starting with 10 and incrementing by 10 each time and stops printing numbers when you reach 100 \n",
    "### Helpful Steps\n",
    "\n",
    "- initalize a variable to serve as your iterator. set this to your starting number. \n",
    "- create a while loop that evaluates the iterator and will stop running when the number reaches 100\n",
    "- inside the while loop\n",
    "    - print your iterator variable\n",
    "    - increment your iterator variable by 10 "
   ]
  },
  {
   "cell_type": "code",
   "execution_count": 23,
   "metadata": {},
   "outputs": [
    {
     "name": "stdout",
     "output_type": "stream",
     "text": [
      "20\n",
      "30\n",
      "40\n",
      "50\n",
      "60\n",
      "70\n",
      "80\n",
      "90\n",
      "100\n"
     ]
    }
   ],
   "source": [
    "# place your code here\n",
    "\n",
    "\n",
    "i = 10 \n",
    "\n",
    "while i < 100:\n",
    "    i = i + 10 # i += 10 \n",
    "    print(i)"
   ]
  },
  {
   "attachments": {},
   "cell_type": "markdown",
   "metadata": {},
   "source": [
    "# Practice 2 \n",
    "### Task: I want you to iterate through a sentence and print out all the characters except for vowels, punctuation, and spaces.\n",
    "### Helpful Steps\n",
    "- initialize and set a sentence variable to equal the following string: \"I am practicing my for loops.\"\n",
    "- use a for loop to iterate through each item(character) in the sentence \n",
    "- inside the for loop \n",
    "    - use an if statement to check if the item(character) is in the following string: \" aeiou.\" \n",
    "    - if this is true use a continue statement to skip the remaining code block and start back at the top\n",
    "- outside of the if statement: \n",
    "    -  print out the character "
   ]
  },
  {
   "cell_type": "code",
   "execution_count": 24,
   "metadata": {},
   "outputs": [
    {
     "name": "stdout",
     "output_type": "stream",
     "text": [
      "m\n",
      "p\n",
      "r\n",
      "c\n",
      "t\n",
      "c\n",
      "n\n",
      "g\n",
      "m\n",
      "y\n",
      "f\n",
      "r\n",
      "l\n",
      "p\n",
      "s\n"
     ]
    }
   ],
   "source": [
    "# place your code here\n",
    "\n",
    "Sentence = \"I am practicing my for loops.\"\n",
    "vowels = \" AEIOUaeiou.\"\n",
    "\n",
    "for i in Sentence:\n",
    "    if i in vowels:\n",
    "        continue\n",
    "    print(i)\n"
   ]
  },
  {
   "attachments": {},
   "cell_type": "markdown",
   "metadata": {},
   "source": [
    "# Practice 3\n",
    "### Task: Finding the average of 5 numbers using while loop\n",
    "### Helpful Steps\n",
    "- initialize and set your iterator to however many numbers you want from the user \n",
    "- initialize and set a sum variable to 0 to use later \n",
    "- initialize a count variable and set to 0 to use later\n",
    "- use a while loop with a condition that exucutes the code block while  the iterator is greater than 0\n",
    "- inside the while loop\n",
    "    - increment your count  by 1 \n",
    "    - take in a user input of numbers, remember to cast this input as an int data type -- assign this to a variable to use later ---> int(input())\n",
    "    - set sum  equal to sum plus the number from the user input \n",
    "    - increment the iterator by minus 1 \n",
    "- outside of the while loop\n",
    "    - print the average by dividing the sum variable by the count variable \n",
    "    - on the same line print the count of numbers received from the user\n",
    "    - example : \"The average of the [insert_count] numbers is: [insert_average] \""
   ]
  },
  {
   "cell_type": "code",
   "execution_count": 25,
   "metadata": {},
   "outputs": [
    {
     "ename": "ValueError",
     "evalue": "invalid literal for int() with base 10: ''",
     "output_type": "error",
     "traceback": [
      "\u001b[0;31m---------------------------------------------------------------------------\u001b[0m",
      "\u001b[0;31mValueError\u001b[0m                                Traceback (most recent call last)",
      "Cell \u001b[0;32mIn[25], line 10\u001b[0m\n\u001b[1;32m      8\u001b[0m     i \u001b[39m-\u001b[39m\u001b[39m=\u001b[39m \u001b[39m1\u001b[39m\n\u001b[1;32m      9\u001b[0m     count \u001b[39m=\u001b[39m count \u001b[39m+\u001b[39m \u001b[39m1\u001b[39m\n\u001b[0;32m---> 10\u001b[0m     \u001b[39msum\u001b[39m \u001b[39m=\u001b[39m \u001b[39msum\u001b[39m \u001b[39m+\u001b[39m \u001b[39mint\u001b[39;49m(\u001b[39minput\u001b[39;49m())\n\u001b[1;32m     12\u001b[0m average \u001b[39m=\u001b[39m (\u001b[39msum\u001b[39m\u001b[39m/\u001b[39mcount)\n\u001b[1;32m     14\u001b[0m \u001b[39mprint\u001b[39m(\u001b[39mf\u001b[39m\u001b[39m'\u001b[39m\u001b[39mthe average of the \u001b[39m\u001b[39m{\u001b[39;00mcount\u001b[39m}\u001b[39;00m\u001b[39m numbers is: \u001b[39m\u001b[39m{\u001b[39;00maverage\u001b[39m}\u001b[39;00m\u001b[39m'\u001b[39m)\n",
      "\u001b[0;31mValueError\u001b[0m: invalid literal for int() with base 10: ''"
     ]
    }
   ],
   "source": [
    "# place your code here\n",
    "\n",
    "i = 5\n",
    "sum = 0\n",
    "count = 0\n",
    "\n",
    "while i > 0:\n",
    "    i -= 1\n",
    "    count = count + 1\n",
    "    sum = sum + int(input())\n",
    "\n",
    "average = (sum/count)\n",
    "\n",
    "print(f'the average of the {count} numbers is: {average}')\n",
    "\n",
    "\n",
    "\n",
    "          "
   ]
  },
  {
   "attachments": {},
   "cell_type": "markdown",
   "metadata": {},
   "source": [
    "# Practice 4\n",
    "### Task: iterate through the given list and print out the names. Stop the loop once the loop reaches Bob.\n",
    "### helpful hints \n",
    "- inside the for loop\n",
    "    - use an if statement to check if the current iteration equals Bob \n",
    "        - if this condition evaluates to true, then break out of the loop entirely \n",
    "    - print the names "
   ]
  },
  {
   "cell_type": "code",
   "execution_count": null,
   "metadata": {},
   "outputs": [
    {
     "name": "stdout",
     "output_type": "stream",
     "text": [
      "Fred Sam Claire Fred Sam Claire Bob "
     ]
    }
   ],
   "source": [
    "names = ['Fred', 'Sam', 'Claire', 'Bob', 'John']\n",
    "\n",
    "# place your code here \n",
    "\n",
    "for name in names:\n",
    "    if name == 'Bob':\n",
    "        break\n",
    "    print(name, end= ' ')\n",
    "\n",
    "# for name in names:\n",
    "#     print(name, end= ' ')\n",
    "#     if name == 'Bob':\n",
    "#         break"
   ]
  },
  {
   "cell_type": "code",
   "execution_count": null,
   "metadata": {},
   "outputs": [],
   "source": []
  },
  {
   "attachments": {},
   "cell_type": "markdown",
   "metadata": {},
   "source": [
    "# Practice 5\n",
    "### Task: given the fruit list and the drink set below. Use nested for loops to print out all combinations of the two sequences. \n",
    "### helpful hints: \n",
    "- the first for loop should iterate through the fruits list \n",
    "- the nested for loop should iterate through the drink list \n",
    "    - inside the nest loop you should print both iterators "
   ]
  },
  {
   "cell_type": "code",
   "execution_count": null,
   "metadata": {},
   "outputs": [
    {
     "name": "stdout",
     "output_type": "stream",
     "text": [
      "Apple seltzer water\n",
      "Apple juice\n",
      "Apple smoothie\n",
      "Apple soda\n",
      "Mango seltzer water\n",
      "Mango juice\n",
      "Mango smoothie\n",
      "Mango soda\n",
      "Banana seltzer water\n",
      "Banana juice\n",
      "Banana smoothie\n",
      "Banana soda\n",
      "Peach seltzer water\n",
      "Peach juice\n",
      "Peach smoothie\n",
      "Peach soda\n"
     ]
    }
   ],
   "source": [
    "fruits = [\"Apple\", \"Mango\",  \"Banana\", \"Peach\"]\n",
    "drinks = {'soda', 'juice', 'smoothie', 'seltzer water'}\n",
    "\n",
    "for i in fruits:\n",
    "    for j in drinks:\n",
    "        print(i,j)"
   ]
  },
  {
   "attachments": {},
   "cell_type": "markdown",
   "metadata": {},
   "source": [
    "# BONUS EXAMPLE "
   ]
  },
  {
   "cell_type": "code",
   "execution_count": null,
   "metadata": {},
   "outputs": [
    {
     "name": "stdout",
     "output_type": "stream",
     "text": [
      "('apple', 1.4)\n",
      "<class 'tuple'>\n",
      "('orange', 2.35)\n",
      "<class 'tuple'>\n",
      "('banana', 1.25)\n",
      "<class 'tuple'>\n",
      "apple : 1.4\n",
      "orange : 2.35\n",
      "banana : 1.25\n"
     ]
    },
    {
     "data": {
      "text/plain": [
       "'\\nFinally, you can combine methods described above with accessing the values in the dictionary and insert the key and new value into a new price dictionary. \\n'"
      ]
     },
     "execution_count": 82,
     "metadata": {},
     "output_type": "execute_result"
    }
   ],
   "source": [
    "prices = {'apple': 1.40, 'orange': 2.35, 'banana': 1.25}\n",
    "new_prices = {}\n",
    "\n",
    "\"\"\" \n",
    "The object returned by .items() yields the key-value pairs one at a time \n",
    "and allows you to iterate through a dictionary in Python, \n",
    "but in such a way that you get access to the keys and values at the same time.\n",
    "\"\"\"\n",
    "# print(prices.items())\n",
    "\n",
    "\"\"\"\n",
    "If you take a closer look at the individual items yielded by .items() in the code, \n",
    "you will notice that the objects are actually tuples and can be accessed via tuple unpacking.  \n",
    "\"\"\"\n",
    "\n",
    "for i in prices.items():  \n",
    "    print(i)\n",
    "    print(type(i))\n",
    "\n",
    "\"\"\"\n",
    "You can use tuple unpacking to iterate through the keys and values of the dictionary you are working with. \n",
    "To achieve this, you just need to unpack the elements of every item into two different variables representing the key and the value.\n",
    "\"\"\"\n",
    "\n",
    "for key, value in prices.items():\n",
    "    print(key, ':', value)\n",
    "\n",
    "\"\"\"\n",
    "Finally, you can combine methods described above with accessing the values in the dictionary and insert the key and new value into a new price dictionary. \n",
    "\"\"\"\n",
    "# for i,v in prices.items():        # unpack prices dictionary items  \n",
    "#     new_prices[i] = v*2           # store key and new value into new_prices dictionary \n",
    "#                                   # print out results of new dictionary compared to old dictionary \n",
    "# print(f\"\"\"                         \n",
    "#     old prices: {prices}\n",
    "#     new prices: {new_prices}\n",
    "# \"\"\")\n",
    "\n"
   ]
  },
  {
   "cell_type": "code",
   "execution_count": null,
   "metadata": {},
   "outputs": [],
   "source": []
  },
  {
   "cell_type": "code",
   "execution_count": null,
   "metadata": {},
   "outputs": [
    {
     "name": "stdout",
     "output_type": "stream",
     "text": [
      "Jerry Scott\n",
      "Amy Smith\n",
      "Chad Smith\n"
     ]
    }
   ],
   "source": [
    "def familyname (fname, lname = ' Smith') : \n",
    "    print(fname + lname)\n",
    "\n",
    "familyname(\"Jerry\", \" Scott\")\n",
    "familyname(\"Amy\")\n",
    "familyname(\"Chad\")"
   ]
  },
  {
   "cell_type": "code",
   "execution_count": null,
   "metadata": {},
   "outputs": [
    {
     "name": "stdout",
     "output_type": "stream",
     "text": [
      "Name:  Johnny\n",
      "Age:  35\n"
     ]
    }
   ],
   "source": [
    "def printInfo( name, age = 35) : \n",
    "    print(\"Name: \", name)\n",
    "    print(\"Age: \", age)\n",
    "\n",
    "printInfo(\"Johnny\")"
   ]
  },
  {
   "cell_type": "code",
   "execution_count": null,
   "metadata": {},
   "outputs": [
    {
     "name": "stdout",
     "output_type": "stream",
     "text": [
      "the total ....  120\n"
     ]
    }
   ],
   "source": [
    "def summing(art1, arg2):\n",
    "    sumTotal = art1 + arg2\n",
    "    return sumTotal\n",
    "\n",
    "total = summing(100, 20)\n",
    "print(\"the total .... \", total)"
   ]
  },
  {
   "cell_type": "code",
   "execution_count": null,
   "metadata": {},
   "outputs": [
    {
     "name": "stdout",
     "output_type": "stream",
     "text": [
      "fizz,fizz,fizz,,buzz,buzz,buzz,,fizzbuzz,fizzbuzz,fizzbuzz,"
     ]
    }
   ],
   "source": [
    "#5\n",
    "def fizzbuzz(value):\n",
    "    result = \"\"\n",
    "    if value % 3 == 0:\n",
    "        result+= \"fizz\"\n",
    "    if value % 5 == 0: \n",
    "        result+= \"buzz\"\n",
    "    return result\n",
    "\n",
    "values = [3,6,9,11,10,20,40,23,15,30,60]\n",
    "\n",
    "for value in values:\n",
    "    print(fizzbuzz(value), end =\",\")"
   ]
  },
  {
   "cell_type": "code",
   "execution_count": null,
   "metadata": {},
   "outputs": [
    {
     "name": "stdout",
     "output_type": "stream",
     "text": [
      "this is not a int\n"
     ]
    }
   ],
   "source": [
    "whole_number = input()\n",
    "\n",
    "Try: \n",
    "    whole_number = int\n",
    "    print()\n",
    "\n",
    "if whole_number != int:\n",
    "    print(\"this is not a int\")\n",
    "elif whole_number % 2 == 1:\n",
    "    print(f\"{whole_number} is an odd number\")\n",
    "elif whole_number % 2 == 0:\n",
    "    print(f\"{whole_number} is an even number\")"
   ]
  },
  {
   "cell_type": "code",
   "execution_count": 34,
   "metadata": {},
   "outputs": [
    {
     "name": "stdout",
     "output_type": "stream",
     "text": [
      "3,6,9,12,15,"
     ]
    }
   ],
   "source": [
    "# Write a program to print counting from 1 to 15.\n",
    "# Bonus: Print only every 3rd number (3, 6, 9...)\n",
    "\n",
    "for i in range(3, 16, 3):\n",
    "    print(i, end= \",\")"
   ]
  }
 ],
 "metadata": {
  "kernelspec": {
   "display_name": "Python 3",
   "language": "python",
   "name": "python3"
  },
  "language_info": {
   "codemirror_mode": {
    "name": "ipython",
    "version": 3
   },
   "file_extension": ".py",
   "mimetype": "text/x-python",
   "name": "python",
   "nbconvert_exporter": "python",
   "pygments_lexer": "ipython3",
   "version": "3.11.3"
  },
  "orig_nbformat": 4
 },
 "nbformat": 4,
 "nbformat_minor": 2
}
